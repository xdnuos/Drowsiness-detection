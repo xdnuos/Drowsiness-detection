{
 "cells": [
  {
   "cell_type": "code",
   "execution_count": 1,
   "id": "3d5aa373",
   "metadata": {
    "_cell_guid": "b1076dfc-b9ad-4769-8c92-a6c4dae69d19",
    "_uuid": "8f2839f25d086af736a60e9eeb907d3b93b6e0e5",
    "execution": {
     "iopub.execute_input": "2022-12-26T15:50:10.608243Z",
     "iopub.status.busy": "2022-12-26T15:50:10.607538Z",
     "iopub.status.idle": "2022-12-26T15:50:13.105535Z",
     "shell.execute_reply": "2022-12-26T15:50:13.104255Z"
    },
    "papermill": {
     "duration": 2.508882,
     "end_time": "2022-12-26T15:50:13.108199",
     "exception": false,
     "start_time": "2022-12-26T15:50:10.599317",
     "status": "completed"
    },
    "tags": []
   },
   "outputs": [],
   "source": [
    "import os\n",
    "import numpy as np\n",
    "from PIL import Image\n",
    "from torch.utils.data import Dataset\n",
    "import torch\n",
    "import torch.nn as nn\n",
    "from torchvision import transforms,models\n",
    "from torch.utils.data import DataLoader\n",
    "import glob\n",
    "from sklearn.model_selection import train_test_split"
   ]
  },
  {
   "cell_type": "code",
   "execution_count": 2,
   "id": "fcf43f7d",
   "metadata": {
    "execution": {
     "iopub.execute_input": "2022-12-26T15:50:13.125204Z",
     "iopub.status.busy": "2022-12-26T15:50:13.124749Z",
     "iopub.status.idle": "2022-12-26T15:50:13.129134Z",
     "shell.execute_reply": "2022-12-26T15:50:13.128127Z"
    },
    "papermill": {
     "duration": 0.013232,
     "end_time": "2022-12-26T15:50:13.130997",
     "exception": false,
     "start_time": "2022-12-26T15:50:13.117765",
     "status": "completed"
    },
    "tags": []
   },
   "outputs": [],
   "source": [
    "# Jupyter notebook: https://www.kaggle.com/code/xdnuos/drowsiness\n",
    "# Dataset: https://www.kaggle.com/datasets/xdnuos/drowsiness-dataset"
   ]
  },
  {
   "cell_type": "code",
   "execution_count": 3,
   "id": "17993635",
   "metadata": {
    "execution": {
     "iopub.execute_input": "2022-12-26T15:50:13.144461Z",
     "iopub.status.busy": "2022-12-26T15:50:13.142967Z",
     "iopub.status.idle": "2022-12-26T15:50:13.571663Z",
     "shell.execute_reply": "2022-12-26T15:50:13.570829Z"
    },
    "papermill": {
     "duration": 0.43757,
     "end_time": "2022-12-26T15:50:13.574037",
     "exception": false,
     "start_time": "2022-12-26T15:50:13.136467",
     "status": "completed"
    },
    "tags": []
   },
   "outputs": [],
   "source": [
    "images=glob.glob(os.path.join('./train/dataset/','*.jpg'))"
   ]
  },
  {
   "cell_type": "markdown",
   "id": "9ae73764",
   "metadata": {
    "papermill": {
     "duration": 0.005502,
     "end_time": "2022-12-26T15:50:13.585673",
     "exception": false,
     "start_time": "2022-12-26T15:50:13.580171",
     "status": "completed"
    },
    "tags": []
   },
   "source": [
    "Tiền xử lý"
   ]
  },
  {
   "cell_type": "code",
   "execution_count": 4,
   "id": "4c2a9afe",
   "metadata": {
    "execution": {
     "iopub.execute_input": "2022-12-26T15:50:13.599547Z",
     "iopub.status.busy": "2022-12-26T15:50:13.598077Z",
     "iopub.status.idle": "2022-12-26T15:50:13.606676Z",
     "shell.execute_reply": "2022-12-26T15:50:13.605823Z"
    },
    "papermill": {
     "duration": 0.017425,
     "end_time": "2022-12-26T15:50:13.608693",
     "exception": false,
     "start_time": "2022-12-26T15:50:13.591268",
     "status": "completed"
    },
    "tags": []
   },
   "outputs": [],
   "source": [
    "train_list, test_list=train_test_split(images,test_size=.2,shuffle=True)\n",
    "\n",
    "train_transform = transforms.Compose([\n",
    "        transforms.RandomHorizontalFlip(p=0.25),\n",
    "        transforms.RandomRotation(60),\n",
    "        transforms.Resize(145),\n",
    "        transforms.ToTensor(), # Converting Tensor - Processable Data\n",
    "        transforms.Normalize((0, 0, 0),(1, 1, 1))\n",
    "    ])\n",
    "\n",
    "val_transform = transforms.Compose([ \n",
    "        transforms.ToTensor(),\n",
    "        transforms.Normalize((0, 0, 0),(1, 1, 1))\n",
    "    ])"
   ]
  },
  {
   "cell_type": "code",
   "execution_count": 5,
   "id": "1c7d4e67",
   "metadata": {
    "execution": {
     "iopub.execute_input": "2022-12-26T15:50:13.622310Z",
     "iopub.status.busy": "2022-12-26T15:50:13.621485Z",
     "iopub.status.idle": "2022-12-26T15:50:13.630062Z",
     "shell.execute_reply": "2022-12-26T15:50:13.629230Z"
    },
    "papermill": {
     "duration": 0.016859,
     "end_time": "2022-12-26T15:50:13.631951",
     "exception": false,
     "start_time": "2022-12-26T15:50:13.615092",
     "status": "completed"
    },
    "tags": []
   },
   "outputs": [],
   "source": [
    "class OpenClosedEyeSet(Dataset):\n",
    "\n",
    "    def __init__(self,images_list,mode='train',transform=None) -> None:\n",
    "    \n",
    "        self.label=None\n",
    "        self.images_list=images_list\n",
    "        self.mode=mode\n",
    "        self.transform=transform\n",
    "    \n",
    "    # DUNDER - OVERRIDE\n",
    "    def __len__(self):\n",
    "    \n",
    "        self.dataset_len=len(self.images_list)\n",
    "        return self.dataset_len\n",
    "\n",
    "    def __getitem__(self, index):\n",
    "\n",
    "        image_name=self.images_list[index]\n",
    "        \n",
    "        image=Image.open(image_name).convert('RGB')\n",
    "\n",
    "        # Resizing image to 100 width , 100 height\n",
    "        image=image.resize((145,145))\n",
    "\n",
    "        # Whole defined transformations apply on image HERE.\n",
    "        transformed_image = self.transform(image)\n",
    "\n",
    "        # Split the labels from file name.\n",
    "        label=image_name.split('/')[-1].split(\".\")[0]\n",
    "\n",
    "        if self.mode=='train' or self.mode=='test':\n",
    "            if label=='open':\n",
    "                self.label=0\n",
    "            elif label=='closed':\n",
    "                self.label=1\n",
    "\n",
    "            return transformed_image,self.label"
   ]
  },
  {
   "cell_type": "code",
   "execution_count": 6,
   "id": "4cf16a02",
   "metadata": {
    "execution": {
     "iopub.execute_input": "2022-12-26T15:50:13.644911Z",
     "iopub.status.busy": "2022-12-26T15:50:13.644160Z",
     "iopub.status.idle": "2022-12-26T15:50:13.648258Z",
     "shell.execute_reply": "2022-12-26T15:50:13.647302Z"
    },
    "papermill": {
     "duration": 0.012564,
     "end_time": "2022-12-26T15:50:13.650224",
     "exception": false,
     "start_time": "2022-12-26T15:50:13.637660",
     "status": "completed"
    },
    "tags": []
   },
   "outputs": [],
   "source": [
    "batch_size=40\n",
    "num_epochs=50"
   ]
  },
  {
   "cell_type": "markdown",
   "id": "dfac9cdf",
   "metadata": {
    "papermill": {
     "duration": 0.006555,
     "end_time": "2022-12-26T15:50:13.662366",
     "exception": false,
     "start_time": "2022-12-26T15:50:13.655811",
     "status": "completed"
    },
    "tags": []
   },
   "source": [
    "DATASET"
   ]
  },
  {
   "cell_type": "code",
   "execution_count": 7,
   "id": "83b5b8b7",
   "metadata": {
    "execution": {
     "iopub.execute_input": "2022-12-26T15:50:13.675017Z",
     "iopub.status.busy": "2022-12-26T15:50:13.674210Z",
     "iopub.status.idle": "2022-12-26T15:50:13.678876Z",
     "shell.execute_reply": "2022-12-26T15:50:13.678020Z"
    },
    "papermill": {
     "duration": 0.012823,
     "end_time": "2022-12-26T15:50:13.680752",
     "exception": false,
     "start_time": "2022-12-26T15:50:13.667929",
     "status": "completed"
    },
    "tags": []
   },
   "outputs": [],
   "source": [
    "train_dataset=OpenClosedEyeSet(train_list,mode='train',transform=train_transform)\n",
    "test_dataset=OpenClosedEyeSet(test_list,mode='test',transform=val_transform)"
   ]
  },
  {
   "cell_type": "markdown",
   "id": "a754e574",
   "metadata": {
    "papermill": {
     "duration": 0.005303,
     "end_time": "2022-12-26T15:50:13.691856",
     "exception": false,
     "start_time": "2022-12-26T15:50:13.686553",
     "status": "completed"
    },
    "tags": []
   },
   "source": [
    "DATALOADER"
   ]
  },
  {
   "cell_type": "code",
   "execution_count": 8,
   "id": "f0ec84b6",
   "metadata": {
    "execution": {
     "iopub.execute_input": "2022-12-26T15:50:13.704883Z",
     "iopub.status.busy": "2022-12-26T15:50:13.704106Z",
     "iopub.status.idle": "2022-12-26T15:50:13.709133Z",
     "shell.execute_reply": "2022-12-26T15:50:13.708223Z"
    },
    "papermill": {
     "duration": 0.013358,
     "end_time": "2022-12-26T15:50:13.711036",
     "exception": false,
     "start_time": "2022-12-26T15:50:13.697678",
     "status": "completed"
    },
    "tags": []
   },
   "outputs": [],
   "source": [
    "train_dataloader=DataLoader(train_dataset,batch_size=batch_size, shuffle=True,drop_last=True)\n",
    "val_dataloader=DataLoader(test_dataset,batch_size=batch_size,shuffle=True,drop_last=True)"
   ]
  },
  {
   "cell_type": "code",
   "execution_count": 9,
   "id": "f334aef6",
   "metadata": {
    "execution": {
     "iopub.execute_input": "2022-12-26T15:50:13.724114Z",
     "iopub.status.busy": "2022-12-26T15:50:13.723260Z",
     "iopub.status.idle": "2022-12-26T15:50:13.787087Z",
     "shell.execute_reply": "2022-12-26T15:50:13.786434Z"
    },
    "papermill": {
     "duration": 0.072217,
     "end_time": "2022-12-26T15:50:13.788943",
     "exception": false,
     "start_time": "2022-12-26T15:50:13.716726",
     "status": "completed"
    },
    "tags": []
   },
   "outputs": [
    {
     "name": "stdout",
     "output_type": "stream",
     "text": [
      "cuda:0\n"
     ]
    }
   ],
   "source": [
    "device = torch.device('cuda:0' if torch.cuda.is_available() else 'cpu')\n",
    "print(device)"
   ]
  },
  {
   "cell_type": "markdown",
   "id": "5dcadaf9",
   "metadata": {
    "papermill": {
     "duration": 0.00549,
     "end_time": "2022-12-26T15:50:13.800031",
     "exception": false,
     "start_time": "2022-12-26T15:50:13.794541",
     "status": "completed"
    },
    "tags": []
   },
   "source": [
    "Network"
   ]
  },
  {
   "cell_type": "code",
   "execution_count": 10,
   "id": "5c47bcba",
   "metadata": {
    "execution": {
     "iopub.execute_input": "2022-12-26T15:50:13.812236Z",
     "iopub.status.busy": "2022-12-26T15:50:13.811970Z",
     "iopub.status.idle": "2022-12-26T15:50:13.816650Z",
     "shell.execute_reply": "2022-12-26T15:50:13.815812Z"
    },
    "papermill": {
     "duration": 0.012945,
     "end_time": "2022-12-26T15:50:13.818630",
     "exception": false,
     "start_time": "2022-12-26T15:50:13.805685",
     "status": "completed"
    },
    "tags": []
   },
   "outputs": [],
   "source": [
    "use_pretrained = True\n",
    "learning_rate=0.01"
   ]
  },
  {
   "cell_type": "code",
   "execution_count": 11,
   "id": "4c90757c",
   "metadata": {
    "execution": {
     "iopub.execute_input": "2022-12-26T15:50:13.830872Z",
     "iopub.status.busy": "2022-12-26T15:50:13.830578Z",
     "iopub.status.idle": "2022-12-26T15:50:13.834444Z",
     "shell.execute_reply": "2022-12-26T15:50:13.833533Z"
    },
    "papermill": {
     "duration": 0.012223,
     "end_time": "2022-12-26T15:50:13.836385",
     "exception": false,
     "start_time": "2022-12-26T15:50:13.824162",
     "status": "completed"
    },
    "tags": []
   },
   "outputs": [],
   "source": [
    "# # GOOGLENET\n",
    "# model = models.googlenet(pretrained=True)\n",
    "# # print(model)\n",
    "# # model.fc = nn.Linear(in_features=1024, out_features=2)\n",
    "# model.classifier = nn.Linear(in_features=4096, out_features=2)\n",
    "# optimizer = torch.optim.SGD(params=model.parameters(), lr=learning_rate, momentum=0.9)"
   ]
  },
  {
   "cell_type": "code",
   "execution_count": 12,
   "id": "18a20322",
   "metadata": {
    "execution": {
     "iopub.execute_input": "2022-12-26T15:50:13.849443Z",
     "iopub.status.busy": "2022-12-26T15:50:13.848570Z",
     "iopub.status.idle": "2022-12-26T15:50:13.853397Z",
     "shell.execute_reply": "2022-12-26T15:50:13.852548Z"
    },
    "papermill": {
     "duration": 0.013232,
     "end_time": "2022-12-26T15:50:13.855493",
     "exception": false,
     "start_time": "2022-12-26T15:50:13.842261",
     "status": "completed"
    },
    "tags": []
   },
   "outputs": [],
   "source": [
    "# #Mobile net\n",
    "# model = models.mobilenet_v3_large(use_pretrained)\n",
    "# model.classifier[3] = nn.Linear(in_features=1280, out_features=2)\n",
    "# # print(model)\n",
    "# params_to_update = []\n",
    "\n",
    "# update_params_name = [\"classifier.3.weight\", \"classifier.3.bias\"]\n",
    "\n",
    "# for name, param in model.named_parameters():\n",
    "#     if name in update_params_name:\n",
    "#         param.requires_grad = True\n",
    "#         params_to_update.append(param)\n",
    "#         print(name)\n",
    "#     else:\n",
    "#         param.requires_grad = False\n",
    "# optimizer = torch.optim.SGD(params=params_to_update, lr=learning_rate, momentum=0.9)"
   ]
  },
  {
   "cell_type": "code",
   "execution_count": 13,
   "id": "563f03a4",
   "metadata": {
    "execution": {
     "iopub.execute_input": "2022-12-26T15:50:13.868397Z",
     "iopub.status.busy": "2022-12-26T15:50:13.867743Z",
     "iopub.status.idle": "2022-12-26T15:50:22.663316Z",
     "shell.execute_reply": "2022-12-26T15:50:22.661683Z"
    },
    "papermill": {
     "duration": 8.804192,
     "end_time": "2022-12-26T15:50:22.665492",
     "exception": false,
     "start_time": "2022-12-26T15:50:13.861300",
     "status": "completed"
    },
    "tags": []
   },
   "outputs": [
    {
     "name": "stderr",
     "output_type": "stream",
     "text": [
      "Downloading: \"https://download.pytorch.org/models/alexnet-owt-7be5be79.pth\" to /root/.cache/torch/hub/checkpoints/alexnet-owt-7be5be79.pth\n"
     ]
    },
    {
     "data": {
      "application/vnd.jupyter.widget-view+json": {
       "model_id": "0efc4ec1467343d38001697ae4d6a5ce",
       "version_major": 2,
       "version_minor": 0
      },
      "text/plain": [
       "  0%|          | 0.00/233M [00:00<?, ?B/s]"
      ]
     },
     "metadata": {},
     "output_type": "display_data"
    },
    {
     "name": "stdout",
     "output_type": "stream",
     "text": [
      "classifier.6.weight\n",
      "classifier.6.bias\n"
     ]
    }
   ],
   "source": [
    "#Alexnet\n",
    "model  = models.alexnet(use_pretrained)\n",
    "# print(model)\n",
    "model.classifier[6] = nn.Linear(in_features=4096, out_features=2)\n",
    "\n",
    "params_to_update = []\n",
    "\n",
    "update_params_name = [\"classifier.6.weight\", \"classifier.6.bias\"]\n",
    "\n",
    "for name, param in model.named_parameters():\n",
    "    if name in update_params_name:\n",
    "        param.requires_grad = True\n",
    "        params_to_update.append(param)\n",
    "        print(name)\n",
    "    else:\n",
    "        param.requires_grad = False\n",
    "optimizer = torch.optim.SGD(params=params_to_update, lr=learning_rate, momentum=0.9)"
   ]
  },
  {
   "cell_type": "code",
   "execution_count": 14,
   "id": "bcaec459",
   "metadata": {
    "execution": {
     "iopub.execute_input": "2022-12-26T15:50:22.679100Z",
     "iopub.status.busy": "2022-12-26T15:50:22.678798Z",
     "iopub.status.idle": "2022-12-26T15:50:22.683027Z",
     "shell.execute_reply": "2022-12-26T15:50:22.681916Z"
    },
    "papermill": {
     "duration": 0.01357,
     "end_time": "2022-12-26T15:50:22.685546",
     "exception": false,
     "start_time": "2022-12-26T15:50:22.671976",
     "status": "completed"
    },
    "tags": []
   },
   "outputs": [],
   "source": [
    "# # densenet201\n",
    "# model = models.densenet201(use_pretrained)\n",
    "# model.classifier = nn.Linear(in_features=1920, out_features=2)\n",
    "# print(model)\n",
    "# optimizer = torch.optim.SGD(params=model.parameters(), lr=learning_rate, momentum=0.9)"
   ]
  },
  {
   "cell_type": "code",
   "execution_count": 15,
   "id": "4d721043",
   "metadata": {
    "execution": {
     "iopub.execute_input": "2022-12-26T15:50:22.698427Z",
     "iopub.status.busy": "2022-12-26T15:50:22.698155Z",
     "iopub.status.idle": "2022-12-26T15:50:22.702382Z",
     "shell.execute_reply": "2022-12-26T15:50:22.701402Z"
    },
    "papermill": {
     "duration": 0.013207,
     "end_time": "2022-12-26T15:50:22.704544",
     "exception": false,
     "start_time": "2022-12-26T15:50:22.691337",
     "status": "completed"
    },
    "tags": []
   },
   "outputs": [],
   "source": [
    "# # wide_resnet101_2\n",
    "# model = models.wide_resnet101_2(use_pretrained)\n",
    "# # print(model)\n",
    "# model.fc = nn.Linear(in_features=2048, out_features=2)\n",
    "# optimizer = torch.optim.SGD(params=model.parameters(), lr=learning_rate, momentum=0.9)"
   ]
  },
  {
   "cell_type": "code",
   "execution_count": 16,
   "id": "a096c965",
   "metadata": {
    "execution": {
     "iopub.execute_input": "2022-12-26T15:50:22.717138Z",
     "iopub.status.busy": "2022-12-26T15:50:22.716880Z",
     "iopub.status.idle": "2022-12-26T15:50:22.720996Z",
     "shell.execute_reply": "2022-12-26T15:50:22.720025Z"
    },
    "papermill": {
     "duration": 0.012593,
     "end_time": "2022-12-26T15:50:22.722896",
     "exception": false,
     "start_time": "2022-12-26T15:50:22.710303",
     "status": "completed"
    },
    "tags": []
   },
   "outputs": [],
   "source": [
    "# # VGG16\n",
    "# model = models.vgg16(use_pretrained)\n",
    "# model.classifier[6] = nn.Linear(in_features=4096, out_features=2)\n",
    "# params_to_update = []\n",
    "\n",
    "# update_params_name = [\"classifier.6.weight\", \"classifier.6.bias\"]\n",
    "\n",
    "# for name, param in model.named_parameters():\n",
    "#     if name in update_params_name:\n",
    "#         param.requires_grad = True\n",
    "#         params_to_update.append(param)\n",
    "#         print(name)\n",
    "#     else:\n",
    "#         param.requires_grad = False\n",
    "\n",
    "# print(params_to_update)\n",
    "# optimizer = torch.optim.SGD(params=params_to_update, lr=learning_rate, momentum=0.9)"
   ]
  },
  {
   "cell_type": "markdown",
   "id": "7487a43b",
   "metadata": {
    "papermill": {
     "duration": 0.005542,
     "end_time": "2022-12-26T15:50:22.734133",
     "exception": false,
     "start_time": "2022-12-26T15:50:22.728591",
     "status": "completed"
    },
    "tags": []
   },
   "source": [
    "Loss and optimize"
   ]
  },
  {
   "cell_type": "code",
   "execution_count": 17,
   "id": "daf27bd5",
   "metadata": {
    "execution": {
     "iopub.execute_input": "2022-12-26T15:50:22.746692Z",
     "iopub.status.busy": "2022-12-26T15:50:22.746440Z",
     "iopub.status.idle": "2022-12-26T15:50:22.750919Z",
     "shell.execute_reply": "2022-12-26T15:50:22.749970Z"
    },
    "papermill": {
     "duration": 0.012976,
     "end_time": "2022-12-26T15:50:22.752934",
     "exception": false,
     "start_time": "2022-12-26T15:50:22.739958",
     "status": "completed"
    },
    "tags": []
   },
   "outputs": [],
   "source": [
    "# setting mode\n",
    "model = model.train()\n",
    "# criterion=nn.BCEWithLogitsLoss()\n",
    "# optimizer=torch.optim.Adam(params=model.parameters(),lr=learning_rate)\n",
    "criterion=nn.CrossEntropyLoss()"
   ]
  },
  {
   "cell_type": "code",
   "execution_count": 18,
   "id": "edfd4b90",
   "metadata": {
    "execution": {
     "iopub.execute_input": "2022-12-26T15:50:22.765309Z",
     "iopub.status.busy": "2022-12-26T15:50:22.765051Z",
     "iopub.status.idle": "2022-12-26T15:50:25.629288Z",
     "shell.execute_reply": "2022-12-26T15:50:25.628250Z"
    },
    "papermill": {
     "duration": 2.87364,
     "end_time": "2022-12-26T15:50:25.632200",
     "exception": false,
     "start_time": "2022-12-26T15:50:22.758560",
     "status": "completed"
    },
    "tags": []
   },
   "outputs": [
    {
     "data": {
      "text/plain": [
       "AlexNet(\n",
       "  (features): Sequential(\n",
       "    (0): Conv2d(3, 64, kernel_size=(11, 11), stride=(4, 4), padding=(2, 2))\n",
       "    (1): ReLU(inplace=True)\n",
       "    (2): MaxPool2d(kernel_size=3, stride=2, padding=0, dilation=1, ceil_mode=False)\n",
       "    (3): Conv2d(64, 192, kernel_size=(5, 5), stride=(1, 1), padding=(2, 2))\n",
       "    (4): ReLU(inplace=True)\n",
       "    (5): MaxPool2d(kernel_size=3, stride=2, padding=0, dilation=1, ceil_mode=False)\n",
       "    (6): Conv2d(192, 384, kernel_size=(3, 3), stride=(1, 1), padding=(1, 1))\n",
       "    (7): ReLU(inplace=True)\n",
       "    (8): Conv2d(384, 256, kernel_size=(3, 3), stride=(1, 1), padding=(1, 1))\n",
       "    (9): ReLU(inplace=True)\n",
       "    (10): Conv2d(256, 256, kernel_size=(3, 3), stride=(1, 1), padding=(1, 1))\n",
       "    (11): ReLU(inplace=True)\n",
       "    (12): MaxPool2d(kernel_size=3, stride=2, padding=0, dilation=1, ceil_mode=False)\n",
       "  )\n",
       "  (avgpool): AdaptiveAvgPool2d(output_size=(6, 6))\n",
       "  (classifier): Sequential(\n",
       "    (0): Dropout(p=0.5, inplace=False)\n",
       "    (1): Linear(in_features=9216, out_features=4096, bias=True)\n",
       "    (2): ReLU(inplace=True)\n",
       "    (3): Dropout(p=0.5, inplace=False)\n",
       "    (4): Linear(in_features=4096, out_features=4096, bias=True)\n",
       "    (5): ReLU(inplace=True)\n",
       "    (6): Linear(in_features=4096, out_features=2, bias=True)\n",
       "  )\n",
       ")"
      ]
     },
     "execution_count": 18,
     "metadata": {},
     "output_type": "execute_result"
    }
   ],
   "source": [
    "from tqdm import tqdm\n",
    "\n",
    "train_losses = []\n",
    "val_losses = []\n",
    "\n",
    "train_acc = []\n",
    "val_acc = []\n",
    "\n",
    "model.to(device)"
   ]
  },
  {
   "cell_type": "markdown",
   "id": "224819b4",
   "metadata": {
    "papermill": {
     "duration": 0.011634,
     "end_time": "2022-12-26T15:50:25.653519",
     "exception": false,
     "start_time": "2022-12-26T15:50:25.641885",
     "status": "completed"
    },
    "tags": []
   },
   "source": [
    "Train and test"
   ]
  },
  {
   "cell_type": "code",
   "execution_count": 19,
   "id": "8ce2d5b6",
   "metadata": {
    "execution": {
     "iopub.execute_input": "2022-12-26T15:50:25.680189Z",
     "iopub.status.busy": "2022-12-26T15:50:25.679840Z",
     "iopub.status.idle": "2022-12-26T15:50:25.693837Z",
     "shell.execute_reply": "2022-12-26T15:50:25.691834Z"
    },
    "papermill": {
     "duration": 0.029009,
     "end_time": "2022-12-26T15:50:25.696092",
     "exception": true,
     "start_time": "2022-12-26T15:50:25.667083",
     "status": "failed"
    },
    "tags": []
   },
   "outputs": [
    {
     "ename": "SyntaxError",
     "evalue": "invalid syntax (4236128970.py, line 3)",
     "output_type": "error",
     "traceback": [
      "\u001b[0;36m  File \u001b[0;32m\"/tmp/ipykernel_23/4236128970.py\"\u001b[0;36m, line \u001b[0;32m3\u001b[0m\n\u001b[0;31m    model.train()ss\u001b[0m\n\u001b[0m                  ^\u001b[0m\n\u001b[0;31mSyntaxError\u001b[0m\u001b[0;31m:\u001b[0m invalid syntax\n"
     ]
    }
   ],
   "source": [
    "for epoch in range(num_epochs):\n",
    "    \n",
    "    model.train()\n",
    "    running_loss = 0\n",
    "    for images, labels in tqdm(train_dataloader):\n",
    "        \n",
    "        # load to gpu\n",
    "        images = images.to(device)\n",
    "        labels = labels.to(device)\n",
    "        # labels=labels.unsqueeze(1)\n",
    "        # labels=labels.float()\n",
    "\n",
    "        # forward pass\n",
    "        outputs = model(images)\n",
    "\n",
    "        loss = criterion(outputs, labels)\n",
    "        running_loss += loss.item()\n",
    "        \n",
    "        # backprop and update model params\n",
    "        # zero the gradient descent\n",
    "        optimizer.zero_grad()\n",
    "        # back prop\n",
    "        loss.backward()\n",
    "        # after zero processing make optimizer ready\n",
    "        optimizer.step()\n",
    "\n",
    "        _, train_preds = torch.max(outputs, 1)\n",
    "        train_preds  = train_preds.tolist()\n",
    "        train_acc_item = [1 if train_preds[i] == labels[i] else 0 for i in range(len(outputs))]\n",
    "        \n",
    "    #Summing over all correct predictions\n",
    "    train_acc.append((np.sum(train_acc_item) / len(train_preds))*100)\n",
    "    # calculate training loss for the epoch\n",
    "    train_losses.append(running_loss / len(train_dataloader))\n",
    "    # train_losses.append(loss)\n",
    "    \n",
    "    # calculate loss accuracy on validation set\n",
    "    model.eval()\n",
    "    running_loss = 0\n",
    "    \n",
    "    with torch.no_grad():  \n",
    "        for images, labels in tqdm(val_dataloader):\n",
    "            \n",
    "            # load to gpu\n",
    "            images = images.to(device)\n",
    "            labels = labels.to(device)\n",
    "            \n",
    "            # forward pass\n",
    "            outputs = model(images)\n",
    "            loss = criterion(outputs, labels)\n",
    "            running_loss += loss.item()\n",
    "\n",
    "            _, preds = torch.max(outputs, 1)\n",
    "            preds  = preds.tolist()\n",
    "            acc = [1 if preds[i] == labels[i] else 0 for i in range(len(outputs))]\n",
    "\n",
    "    \n",
    "    #Summing over all correct predictions\n",
    "    val_acc.append((np.sum(acc) / len(preds))*100)\n",
    "    # calculate val loss for epoch\n",
    "    val_losses.append(running_loss / len(val_dataloader))\n",
    "    # val_losses.append(loss)\n",
    "    \n",
    "    # calculate AVG accuracy\n",
    "    AVG_acc = np.sum(val_acc)/len(val_acc)\n",
    "\n",
    "    print(\"[Epoch: %d / %d],  [Train loss: %.4f],  [Train Acc: %.2f],  [Test loss: %.4f],  [Test Acc: %.2f],  [AVG test Acc: %.2f]\" \\\n",
    "          %(epoch+1, num_epochs, train_losses[-1],train_acc[-1], val_losses[-1], val_acc[-1],AVG_acc))"
   ]
  },
  {
   "cell_type": "code",
   "execution_count": null,
   "id": "d280401f",
   "metadata": {
    "execution": {
     "iopub.execute_input": "2022-12-25T17:25:15.224371Z",
     "iopub.status.busy": "2022-12-25T17:25:15.224003Z",
     "iopub.status.idle": "2022-12-25T17:25:15.634067Z",
     "shell.execute_reply": "2022-12-25T17:25:15.633192Z",
     "shell.execute_reply.started": "2022-12-25T17:25:15.224340Z"
    },
    "papermill": {
     "duration": null,
     "end_time": null,
     "exception": null,
     "start_time": null,
     "status": "pending"
    },
    "tags": []
   },
   "outputs": [],
   "source": [
    "import matplotlib.pyplot as plt\n",
    "\n",
    "def plot_accuracies():\n",
    "    \"\"\" Plot the history of accuracies\"\"\"\n",
    "    plt.plot(train_acc, '-b')\n",
    "    plt.plot(val_acc, '-r')\n",
    "    plt.xlabel('epoch')\n",
    "    plt.ylabel('accuracy')\n",
    "    plt.legend(['Training', 'Validation'])\n",
    "    plt.title('Accuracy vs. No. of epochs')\n",
    "    plt.show()\n",
    "  \n",
    "plot_accuracies()\n",
    "\n",
    "def plot_losses():\n",
    "    \"\"\" Plot the losses in each epoch\"\"\"\n",
    "    plt.plot(train_losses, '-b')\n",
    "    plt.plot(val_losses, '-r')\n",
    "    plt.xlabel('epoch')\n",
    "    plt.ylabel('loss')\n",
    "    plt.legend(['Training', 'Validation'])\n",
    "    plt.title('Loss vs. No. of epochs')\n",
    "    plt.show()\n",
    "\n",
    "plot_losses()"
   ]
  },
  {
   "cell_type": "code",
   "execution_count": null,
   "id": "56eaaf31",
   "metadata": {
    "execution": {
     "iopub.execute_input": "2022-12-25T17:25:02.670297Z",
     "iopub.status.busy": "2022-12-25T17:25:02.669608Z",
     "iopub.status.idle": "2022-12-25T17:25:03.017667Z",
     "shell.execute_reply": "2022-12-25T17:25:03.016661Z",
     "shell.execute_reply.started": "2022-12-25T17:25:02.670257Z"
    },
    "papermill": {
     "duration": null,
     "end_time": null,
     "exception": null,
     "start_time": null,
     "status": "pending"
    },
    "tags": []
   },
   "outputs": [],
   "source": [
    "torch.save(model.state_dict(),'./saved_model/VGG16.pth')"
   ]
  },
  {
   "cell_type": "code",
   "execution_count": null,
   "id": "89462354",
   "metadata": {
    "execution": {
     "iopub.execute_input": "2022-12-25T17:47:26.743321Z",
     "iopub.status.busy": "2022-12-25T17:47:26.742929Z",
     "iopub.status.idle": "2022-12-25T17:47:27.730884Z",
     "shell.execute_reply": "2022-12-25T17:47:27.729725Z",
     "shell.execute_reply.started": "2022-12-25T17:47:26.743287Z"
    },
    "papermill": {
     "duration": null,
     "end_time": null,
     "exception": null,
     "start_time": null,
     "status": "pending"
    },
    "tags": []
   },
   "outputs": [],
   "source": [
    "# ls ../input/test-drowsiness/"
   ]
  },
  {
   "cell_type": "code",
   "execution_count": null,
   "id": "0f621bdd",
   "metadata": {
    "execution": {
     "iopub.execute_input": "2022-12-25T18:15:58.185313Z",
     "iopub.status.busy": "2022-12-25T18:15:58.184926Z",
     "iopub.status.idle": "2022-12-25T18:15:58.228142Z",
     "shell.execute_reply": "2022-12-25T18:15:58.227130Z",
     "shell.execute_reply.started": "2022-12-25T18:15:58.185281Z"
    },
    "papermill": {
     "duration": null,
     "end_time": null,
     "exception": null,
     "start_time": null,
     "status": "pending"
    },
    "tags": []
   },
   "outputs": [],
   "source": [
    "test_img = Image.open('../input/test-drowsiness/test2.jpg')\n",
    "# test_img2 = Image.open('../input/test-drowsiness/test2.jpg')\n",
    "test_img = test_img.resize((145, 145))\n",
    "# print(np.array(test_img).shape)\n",
    "input_transform = transforms.Compose([\n",
    "    transforms.ToTensor(),\n",
    "    transforms.Normalize((0, 0, 0), (1, 1, 1))\n",
    "])\n",
    "test_img = input_transform(test_img)\n",
    "test_img.unsqueeze_(0)\n",
    "test_img = test_img.to(device)\n",
    "output = model(test_img)\n",
    "_, preds = torch.max(output, 1)\n",
    "preds  = preds.tolist()\n",
    "print(preds)\n"
   ]
  }
 ],
 "metadata": {
  "kernelspec": {
   "display_name": "Python 3",
   "language": "python",
   "name": "python3"
  },
  "language_info": {
   "codemirror_mode": {
    "name": "ipython",
    "version": 3
   },
   "file_extension": ".py",
   "mimetype": "text/x-python",
   "name": "python",
   "nbconvert_exporter": "python",
   "pygments_lexer": "ipython3",
   "version": "3.7.12"
  },
  "papermill": {
   "default_parameters": {},
   "duration": 23.43502,
   "end_time": "2022-12-26T15:50:26.824973",
   "environment_variables": {},
   "exception": true,
   "input_path": "__notebook__.ipynb",
   "output_path": "__notebook__.ipynb",
   "parameters": {},
   "start_time": "2022-12-26T15:50:03.389953",
   "version": "2.3.4"
  },
  "widgets": {
   "application/vnd.jupyter.widget-state+json": {
    "state": {
     "0efc4ec1467343d38001697ae4d6a5ce": {
      "model_module": "@jupyter-widgets/controls",
      "model_module_version": "1.5.0",
      "model_name": "HBoxModel",
      "state": {
       "_dom_classes": [],
       "_model_module": "@jupyter-widgets/controls",
       "_model_module_version": "1.5.0",
       "_model_name": "HBoxModel",
       "_view_count": null,
       "_view_module": "@jupyter-widgets/controls",
       "_view_module_version": "1.5.0",
       "_view_name": "HBoxView",
       "box_style": "",
       "children": [
        "IPY_MODEL_e517ea4b8c16496d9cef62a66140123b",
        "IPY_MODEL_1e6873afe2184036a8d775a87faa44da",
        "IPY_MODEL_55ee9f9ce9634c8081e9a18415e7153d"
       ],
       "layout": "IPY_MODEL_3decf314173546368aad31cd8d74b68b"
      }
     },
     "1e6873afe2184036a8d775a87faa44da": {
      "model_module": "@jupyter-widgets/controls",
      "model_module_version": "1.5.0",
      "model_name": "FloatProgressModel",
      "state": {
       "_dom_classes": [],
       "_model_module": "@jupyter-widgets/controls",
       "_model_module_version": "1.5.0",
       "_model_name": "FloatProgressModel",
       "_view_count": null,
       "_view_module": "@jupyter-widgets/controls",
       "_view_module_version": "1.5.0",
       "_view_name": "ProgressView",
       "bar_style": "success",
       "description": "",
       "description_tooltip": null,
       "layout": "IPY_MODEL_35a7e9d939df480c93f4bd6b91da76df",
       "max": 244408911,
       "min": 0,
       "orientation": "horizontal",
       "style": "IPY_MODEL_9cdd18c8a5604c3b9ec85cb1654af131",
       "value": 244408911
      }
     },
     "1f2a3f038ebe4990ac49cd6d038d336b": {
      "model_module": "@jupyter-widgets/controls",
      "model_module_version": "1.5.0",
      "model_name": "DescriptionStyleModel",
      "state": {
       "_model_module": "@jupyter-widgets/controls",
       "_model_module_version": "1.5.0",
       "_model_name": "DescriptionStyleModel",
       "_view_count": null,
       "_view_module": "@jupyter-widgets/base",
       "_view_module_version": "1.2.0",
       "_view_name": "StyleView",
       "description_width": ""
      }
     },
     "35a7e9d939df480c93f4bd6b91da76df": {
      "model_module": "@jupyter-widgets/base",
      "model_module_version": "1.2.0",
      "model_name": "LayoutModel",
      "state": {
       "_model_module": "@jupyter-widgets/base",
       "_model_module_version": "1.2.0",
       "_model_name": "LayoutModel",
       "_view_count": null,
       "_view_module": "@jupyter-widgets/base",
       "_view_module_version": "1.2.0",
       "_view_name": "LayoutView",
       "align_content": null,
       "align_items": null,
       "align_self": null,
       "border": null,
       "bottom": null,
       "display": null,
       "flex": null,
       "flex_flow": null,
       "grid_area": null,
       "grid_auto_columns": null,
       "grid_auto_flow": null,
       "grid_auto_rows": null,
       "grid_column": null,
       "grid_gap": null,
       "grid_row": null,
       "grid_template_areas": null,
       "grid_template_columns": null,
       "grid_template_rows": null,
       "height": null,
       "justify_content": null,
       "justify_items": null,
       "left": null,
       "margin": null,
       "max_height": null,
       "max_width": null,
       "min_height": null,
       "min_width": null,
       "object_fit": null,
       "object_position": null,
       "order": null,
       "overflow": null,
       "overflow_x": null,
       "overflow_y": null,
       "padding": null,
       "right": null,
       "top": null,
       "visibility": null,
       "width": null
      }
     },
     "3decf314173546368aad31cd8d74b68b": {
      "model_module": "@jupyter-widgets/base",
      "model_module_version": "1.2.0",
      "model_name": "LayoutModel",
      "state": {
       "_model_module": "@jupyter-widgets/base",
       "_model_module_version": "1.2.0",
       "_model_name": "LayoutModel",
       "_view_count": null,
       "_view_module": "@jupyter-widgets/base",
       "_view_module_version": "1.2.0",
       "_view_name": "LayoutView",
       "align_content": null,
       "align_items": null,
       "align_self": null,
       "border": null,
       "bottom": null,
       "display": null,
       "flex": null,
       "flex_flow": null,
       "grid_area": null,
       "grid_auto_columns": null,
       "grid_auto_flow": null,
       "grid_auto_rows": null,
       "grid_column": null,
       "grid_gap": null,
       "grid_row": null,
       "grid_template_areas": null,
       "grid_template_columns": null,
       "grid_template_rows": null,
       "height": null,
       "justify_content": null,
       "justify_items": null,
       "left": null,
       "margin": null,
       "max_height": null,
       "max_width": null,
       "min_height": null,
       "min_width": null,
       "object_fit": null,
       "object_position": null,
       "order": null,
       "overflow": null,
       "overflow_x": null,
       "overflow_y": null,
       "padding": null,
       "right": null,
       "top": null,
       "visibility": null,
       "width": null
      }
     },
     "55ee9f9ce9634c8081e9a18415e7153d": {
      "model_module": "@jupyter-widgets/controls",
      "model_module_version": "1.5.0",
      "model_name": "HTMLModel",
      "state": {
       "_dom_classes": [],
       "_model_module": "@jupyter-widgets/controls",
       "_model_module_version": "1.5.0",
       "_model_name": "HTMLModel",
       "_view_count": null,
       "_view_module": "@jupyter-widgets/controls",
       "_view_module_version": "1.5.0",
       "_view_name": "HTMLView",
       "description": "",
       "description_tooltip": null,
       "layout": "IPY_MODEL_d1361e7125e34cb9b1d266d5a34b2b87",
       "placeholder": "​",
       "style": "IPY_MODEL_1f2a3f038ebe4990ac49cd6d038d336b",
       "value": " 233M/233M [00:07&lt;00:00, 35.4MB/s]"
      }
     },
     "79ad36a48276401fbf1b62b376a1c3ce": {
      "model_module": "@jupyter-widgets/controls",
      "model_module_version": "1.5.0",
      "model_name": "DescriptionStyleModel",
      "state": {
       "_model_module": "@jupyter-widgets/controls",
       "_model_module_version": "1.5.0",
       "_model_name": "DescriptionStyleModel",
       "_view_count": null,
       "_view_module": "@jupyter-widgets/base",
       "_view_module_version": "1.2.0",
       "_view_name": "StyleView",
       "description_width": ""
      }
     },
     "9cdd18c8a5604c3b9ec85cb1654af131": {
      "model_module": "@jupyter-widgets/controls",
      "model_module_version": "1.5.0",
      "model_name": "ProgressStyleModel",
      "state": {
       "_model_module": "@jupyter-widgets/controls",
       "_model_module_version": "1.5.0",
       "_model_name": "ProgressStyleModel",
       "_view_count": null,
       "_view_module": "@jupyter-widgets/base",
       "_view_module_version": "1.2.0",
       "_view_name": "StyleView",
       "bar_color": null,
       "description_width": ""
      }
     },
     "d1361e7125e34cb9b1d266d5a34b2b87": {
      "model_module": "@jupyter-widgets/base",
      "model_module_version": "1.2.0",
      "model_name": "LayoutModel",
      "state": {
       "_model_module": "@jupyter-widgets/base",
       "_model_module_version": "1.2.0",
       "_model_name": "LayoutModel",
       "_view_count": null,
       "_view_module": "@jupyter-widgets/base",
       "_view_module_version": "1.2.0",
       "_view_name": "LayoutView",
       "align_content": null,
       "align_items": null,
       "align_self": null,
       "border": null,
       "bottom": null,
       "display": null,
       "flex": null,
       "flex_flow": null,
       "grid_area": null,
       "grid_auto_columns": null,
       "grid_auto_flow": null,
       "grid_auto_rows": null,
       "grid_column": null,
       "grid_gap": null,
       "grid_row": null,
       "grid_template_areas": null,
       "grid_template_columns": null,
       "grid_template_rows": null,
       "height": null,
       "justify_content": null,
       "justify_items": null,
       "left": null,
       "margin": null,
       "max_height": null,
       "max_width": null,
       "min_height": null,
       "min_width": null,
       "object_fit": null,
       "object_position": null,
       "order": null,
       "overflow": null,
       "overflow_x": null,
       "overflow_y": null,
       "padding": null,
       "right": null,
       "top": null,
       "visibility": null,
       "width": null
      }
     },
     "e517ea4b8c16496d9cef62a66140123b": {
      "model_module": "@jupyter-widgets/controls",
      "model_module_version": "1.5.0",
      "model_name": "HTMLModel",
      "state": {
       "_dom_classes": [],
       "_model_module": "@jupyter-widgets/controls",
       "_model_module_version": "1.5.0",
       "_model_name": "HTMLModel",
       "_view_count": null,
       "_view_module": "@jupyter-widgets/controls",
       "_view_module_version": "1.5.0",
       "_view_name": "HTMLView",
       "description": "",
       "description_tooltip": null,
       "layout": "IPY_MODEL_f535e202100d4132bb33d30ed9a96c2f",
       "placeholder": "​",
       "style": "IPY_MODEL_79ad36a48276401fbf1b62b376a1c3ce",
       "value": "100%"
      }
     },
     "f535e202100d4132bb33d30ed9a96c2f": {
      "model_module": "@jupyter-widgets/base",
      "model_module_version": "1.2.0",
      "model_name": "LayoutModel",
      "state": {
       "_model_module": "@jupyter-widgets/base",
       "_model_module_version": "1.2.0",
       "_model_name": "LayoutModel",
       "_view_count": null,
       "_view_module": "@jupyter-widgets/base",
       "_view_module_version": "1.2.0",
       "_view_name": "LayoutView",
       "align_content": null,
       "align_items": null,
       "align_self": null,
       "border": null,
       "bottom": null,
       "display": null,
       "flex": null,
       "flex_flow": null,
       "grid_area": null,
       "grid_auto_columns": null,
       "grid_auto_flow": null,
       "grid_auto_rows": null,
       "grid_column": null,
       "grid_gap": null,
       "grid_row": null,
       "grid_template_areas": null,
       "grid_template_columns": null,
       "grid_template_rows": null,
       "height": null,
       "justify_content": null,
       "justify_items": null,
       "left": null,
       "margin": null,
       "max_height": null,
       "max_width": null,
       "min_height": null,
       "min_width": null,
       "object_fit": null,
       "object_position": null,
       "order": null,
       "overflow": null,
       "overflow_x": null,
       "overflow_y": null,
       "padding": null,
       "right": null,
       "top": null,
       "visibility": null,
       "width": null
      }
     }
    },
    "version_major": 2,
    "version_minor": 0
   }
  }
 },
 "nbformat": 4,
 "nbformat_minor": 5
}
